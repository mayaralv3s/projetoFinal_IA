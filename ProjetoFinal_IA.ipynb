{
  "nbformat": 4,
  "nbformat_minor": 0,
  "metadata": {
    "colab": {
      "provenance": []
    },
    "kernelspec": {
      "name": "python3",
      "display_name": "Python 3"
    },
    "language_info": {
      "name": "python"
    }
  },
  "cells": [
    {
      "cell_type": "markdown",
      "source": [
        "Importações de Bibliotecas\n",
        "\n",
        "---\n",
        "\n"
      ],
      "metadata": {
        "id": "JElUu70P033e"
      }
    },
    {
      "cell_type": "code",
      "execution_count": 15,
      "metadata": {
        "id": "3wDxFvjYzNoi"
      },
      "outputs": [],
      "source": [
        "import pandas as pd\n",
        "import seaborn as sns\n",
        "import matplotlib.pyplot as plt\n",
        "from sklearn.neural_network import MLPClassifier\n",
        "from sklearn.tree import DecisionTreeClassifier\n",
        "from sklearn.ensemble import GradientBoostingClassifier\n",
        "from sklearn.model_selection import KFold\n",
        "from sklearn.model_selection import cross_val_score\n",
        "from sklearn.model_selection import RandomizedSearchCV\n",
        "from sklearn.model_selection import GridSearchCV\n",
        "from sklearn.model_selection import train_test_split\n",
        "from sklearn.metrics import ConfusionMatrixDisplay\n",
        "from sklearn.metrics import confusion_matrix\n",
        "from sklearn.metrics import classification_report\n",
        "from sklearn.preprocessing import StandardScaler"
      ]
    },
    {
      "cell_type": "markdown",
      "source": [
        "Tratamento de Dados\n",
        "\n",
        "---\n",
        "\n"
      ],
      "metadata": {
        "id": "kURwU39X0zFq"
      }
    },
    {
      "cell_type": "code",
      "source": [
        "db = pd.read_csv('/content/drive/MyDrive/ProjetoIA/eburnout2.csv')"
      ],
      "metadata": {
        "id": "u4oLicFj0rKB"
      },
      "execution_count": null,
      "outputs": []
    },
    {
      "cell_type": "code",
      "source": [
        "db.rename(columns={'EJERCICIO FISICO' : 'EJERCICIO_FISICO'}, inplace = True)\n",
        "db.rename(columns={'HORAS_DE_SUEÑO' : 'HORAS_DE_SUENO'}, inplace = True)\n",
        "db.rename(columns={'VIVE_EN_PAREJA ' : 'VIVE_EN_PAREJA'}, inplace = True)\n",
        "db = db.astype({'FUMADOR': int, 'EDAD': int})"
      ],
      "metadata": {
        "id": "5AcsYqdO08KJ"
      },
      "execution_count": null,
      "outputs": []
    },
    {
      "cell_type": "code",
      "source": [
        "db = db.drop(['USUARIO', 'PESO', 'ALTURA', 'HOSPITAL', 'ESPECIALIDAD', 'ESTADO_CIVIL'], axis=1)"
      ],
      "metadata": {
        "id": "33H5SbfV0-Vi"
      },
      "execution_count": null,
      "outputs": []
    },
    {
      "cell_type": "code",
      "source": [
        "X = db.drop(['BURNOUT'], axis=1)\n",
        "y = db['BURNOUT']"
      ],
      "metadata": {
        "id": "TDXvCGmA1BvZ"
      },
      "execution_count": null,
      "outputs": []
    },
    {
      "cell_type": "code",
      "source": [
        "scaler = StandardScaler()\n",
        "X_scaled = scaler.fit_transform(X)"
      ],
      "metadata": {
        "id": "quBAqFxf1Dn5"
      },
      "execution_count": null,
      "outputs": []
    },
    {
      "cell_type": "code",
      "source": [
        "X_train, X_test, y_train, y_test = train_test_split(X_scaled, y, test_size=0.3, random_state=42)"
      ],
      "metadata": {
        "id": "CLvWtJYL1EAZ"
      },
      "execution_count": null,
      "outputs": []
    },
    {
      "cell_type": "markdown",
      "source": [
        "Visualização de Dados\n",
        "\n",
        "---\n",
        "\n"
      ],
      "metadata": {
        "id": "S3gc8cOqPBGI"
      }
    },
    {
      "cell_type": "code",
      "source": [
        "db"
      ],
      "metadata": {
        "colab": {
          "base_uri": "https://localhost:8080/",
          "height": 424
        },
        "id": "xrcigGpHPENg",
        "outputId": "728c7c28-78a1-43f2-aec5-b8207b10518c"
      },
      "execution_count": null,
      "outputs": [
        {
          "output_type": "execute_result",
          "data": {
            "text/plain": [
              "      SEXO  EDAD  NUMERO_HIJOS  HORAS_DE_SUENO  EJERCICIO_FISICO  LECTURA  \\\n",
              "0        1    28             0             9.0              40.0        1   \n",
              "1        1    28             0             9.0              41.0        1   \n",
              "2        1    28             0             9.0              42.0        1   \n",
              "3        1    28             0             9.0              43.0        1   \n",
              "4        1    28             0             8.5              44.0        1   \n",
              "...    ...   ...           ...             ...               ...      ...   \n",
              "1344     0    68             3             4.5             103.0        0   \n",
              "1345     0    68             3             4.4             104.0        0   \n",
              "1346     0    68             3             4.4             105.0        0   \n",
              "1347     0    68             3             4.4             106.0        0   \n",
              "1348     0    69             3             4.4             107.0        0   \n",
              "\n",
              "      TIEMPO_VIDA_LABORAL  FUMADOR  VIVE_EN_PAREJA  BURNOUT  \n",
              "0                     9.0        1               0        0  \n",
              "1                     9.0        1               0        0  \n",
              "2                     9.0        1               0        0  \n",
              "3                     9.0        1               0        0  \n",
              "4                     9.0        1               0        0  \n",
              "...                   ...      ...             ...      ...  \n",
              "1344                -71.0        0               0        1  \n",
              "1345                -71.0        0               0        1  \n",
              "1346                -71.0        0               0        1  \n",
              "1347                -71.0        0               0        1  \n",
              "1348                -73.0        0               0        1  \n",
              "\n",
              "[1349 rows x 10 columns]"
            ],
            "text/html": [
              "\n",
              "  <div id=\"df-ddd0e7f5-47b3-4044-9916-4a55b56dd1a5\" class=\"colab-df-container\">\n",
              "    <div>\n",
              "<style scoped>\n",
              "    .dataframe tbody tr th:only-of-type {\n",
              "        vertical-align: middle;\n",
              "    }\n",
              "\n",
              "    .dataframe tbody tr th {\n",
              "        vertical-align: top;\n",
              "    }\n",
              "\n",
              "    .dataframe thead th {\n",
              "        text-align: right;\n",
              "    }\n",
              "</style>\n",
              "<table border=\"1\" class=\"dataframe\">\n",
              "  <thead>\n",
              "    <tr style=\"text-align: right;\">\n",
              "      <th></th>\n",
              "      <th>SEXO</th>\n",
              "      <th>EDAD</th>\n",
              "      <th>NUMERO_HIJOS</th>\n",
              "      <th>HORAS_DE_SUENO</th>\n",
              "      <th>EJERCICIO_FISICO</th>\n",
              "      <th>LECTURA</th>\n",
              "      <th>TIEMPO_VIDA_LABORAL</th>\n",
              "      <th>FUMADOR</th>\n",
              "      <th>VIVE_EN_PAREJA</th>\n",
              "      <th>BURNOUT</th>\n",
              "    </tr>\n",
              "  </thead>\n",
              "  <tbody>\n",
              "    <tr>\n",
              "      <th>0</th>\n",
              "      <td>1</td>\n",
              "      <td>28</td>\n",
              "      <td>0</td>\n",
              "      <td>9.0</td>\n",
              "      <td>40.0</td>\n",
              "      <td>1</td>\n",
              "      <td>9.0</td>\n",
              "      <td>1</td>\n",
              "      <td>0</td>\n",
              "      <td>0</td>\n",
              "    </tr>\n",
              "    <tr>\n",
              "      <th>1</th>\n",
              "      <td>1</td>\n",
              "      <td>28</td>\n",
              "      <td>0</td>\n",
              "      <td>9.0</td>\n",
              "      <td>41.0</td>\n",
              "      <td>1</td>\n",
              "      <td>9.0</td>\n",
              "      <td>1</td>\n",
              "      <td>0</td>\n",
              "      <td>0</td>\n",
              "    </tr>\n",
              "    <tr>\n",
              "      <th>2</th>\n",
              "      <td>1</td>\n",
              "      <td>28</td>\n",
              "      <td>0</td>\n",
              "      <td>9.0</td>\n",
              "      <td>42.0</td>\n",
              "      <td>1</td>\n",
              "      <td>9.0</td>\n",
              "      <td>1</td>\n",
              "      <td>0</td>\n",
              "      <td>0</td>\n",
              "    </tr>\n",
              "    <tr>\n",
              "      <th>3</th>\n",
              "      <td>1</td>\n",
              "      <td>28</td>\n",
              "      <td>0</td>\n",
              "      <td>9.0</td>\n",
              "      <td>43.0</td>\n",
              "      <td>1</td>\n",
              "      <td>9.0</td>\n",
              "      <td>1</td>\n",
              "      <td>0</td>\n",
              "      <td>0</td>\n",
              "    </tr>\n",
              "    <tr>\n",
              "      <th>4</th>\n",
              "      <td>1</td>\n",
              "      <td>28</td>\n",
              "      <td>0</td>\n",
              "      <td>8.5</td>\n",
              "      <td>44.0</td>\n",
              "      <td>1</td>\n",
              "      <td>9.0</td>\n",
              "      <td>1</td>\n",
              "      <td>0</td>\n",
              "      <td>0</td>\n",
              "    </tr>\n",
              "    <tr>\n",
              "      <th>...</th>\n",
              "      <td>...</td>\n",
              "      <td>...</td>\n",
              "      <td>...</td>\n",
              "      <td>...</td>\n",
              "      <td>...</td>\n",
              "      <td>...</td>\n",
              "      <td>...</td>\n",
              "      <td>...</td>\n",
              "      <td>...</td>\n",
              "      <td>...</td>\n",
              "    </tr>\n",
              "    <tr>\n",
              "      <th>1344</th>\n",
              "      <td>0</td>\n",
              "      <td>68</td>\n",
              "      <td>3</td>\n",
              "      <td>4.5</td>\n",
              "      <td>103.0</td>\n",
              "      <td>0</td>\n",
              "      <td>-71.0</td>\n",
              "      <td>0</td>\n",
              "      <td>0</td>\n",
              "      <td>1</td>\n",
              "    </tr>\n",
              "    <tr>\n",
              "      <th>1345</th>\n",
              "      <td>0</td>\n",
              "      <td>68</td>\n",
              "      <td>3</td>\n",
              "      <td>4.4</td>\n",
              "      <td>104.0</td>\n",
              "      <td>0</td>\n",
              "      <td>-71.0</td>\n",
              "      <td>0</td>\n",
              "      <td>0</td>\n",
              "      <td>1</td>\n",
              "    </tr>\n",
              "    <tr>\n",
              "      <th>1346</th>\n",
              "      <td>0</td>\n",
              "      <td>68</td>\n",
              "      <td>3</td>\n",
              "      <td>4.4</td>\n",
              "      <td>105.0</td>\n",
              "      <td>0</td>\n",
              "      <td>-71.0</td>\n",
              "      <td>0</td>\n",
              "      <td>0</td>\n",
              "      <td>1</td>\n",
              "    </tr>\n",
              "    <tr>\n",
              "      <th>1347</th>\n",
              "      <td>0</td>\n",
              "      <td>68</td>\n",
              "      <td>3</td>\n",
              "      <td>4.4</td>\n",
              "      <td>106.0</td>\n",
              "      <td>0</td>\n",
              "      <td>-71.0</td>\n",
              "      <td>0</td>\n",
              "      <td>0</td>\n",
              "      <td>1</td>\n",
              "    </tr>\n",
              "    <tr>\n",
              "      <th>1348</th>\n",
              "      <td>0</td>\n",
              "      <td>69</td>\n",
              "      <td>3</td>\n",
              "      <td>4.4</td>\n",
              "      <td>107.0</td>\n",
              "      <td>0</td>\n",
              "      <td>-73.0</td>\n",
              "      <td>0</td>\n",
              "      <td>0</td>\n",
              "      <td>1</td>\n",
              "    </tr>\n",
              "  </tbody>\n",
              "</table>\n",
              "<p>1349 rows × 10 columns</p>\n",
              "</div>\n",
              "    <div class=\"colab-df-buttons\">\n",
              "\n",
              "  <div class=\"colab-df-container\">\n",
              "    <button class=\"colab-df-convert\" onclick=\"convertToInteractive('df-ddd0e7f5-47b3-4044-9916-4a55b56dd1a5')\"\n",
              "            title=\"Convert this dataframe to an interactive table.\"\n",
              "            style=\"display:none;\">\n",
              "\n",
              "  <svg xmlns=\"http://www.w3.org/2000/svg\" height=\"24px\" viewBox=\"0 -960 960 960\">\n",
              "    <path d=\"M120-120v-720h720v720H120Zm60-500h600v-160H180v160Zm220 220h160v-160H400v160Zm0 220h160v-160H400v160ZM180-400h160v-160H180v160Zm440 0h160v-160H620v160ZM180-180h160v-160H180v160Zm440 0h160v-160H620v160Z\"/>\n",
              "  </svg>\n",
              "    </button>\n",
              "\n",
              "  <style>\n",
              "    .colab-df-container {\n",
              "      display:flex;\n",
              "      gap: 12px;\n",
              "    }\n",
              "\n",
              "    .colab-df-convert {\n",
              "      background-color: #E8F0FE;\n",
              "      border: none;\n",
              "      border-radius: 50%;\n",
              "      cursor: pointer;\n",
              "      display: none;\n",
              "      fill: #1967D2;\n",
              "      height: 32px;\n",
              "      padding: 0 0 0 0;\n",
              "      width: 32px;\n",
              "    }\n",
              "\n",
              "    .colab-df-convert:hover {\n",
              "      background-color: #E2EBFA;\n",
              "      box-shadow: 0px 1px 2px rgba(60, 64, 67, 0.3), 0px 1px 3px 1px rgba(60, 64, 67, 0.15);\n",
              "      fill: #174EA6;\n",
              "    }\n",
              "\n",
              "    .colab-df-buttons div {\n",
              "      margin-bottom: 4px;\n",
              "    }\n",
              "\n",
              "    [theme=dark] .colab-df-convert {\n",
              "      background-color: #3B4455;\n",
              "      fill: #D2E3FC;\n",
              "    }\n",
              "\n",
              "    [theme=dark] .colab-df-convert:hover {\n",
              "      background-color: #434B5C;\n",
              "      box-shadow: 0px 1px 3px 1px rgba(0, 0, 0, 0.15);\n",
              "      filter: drop-shadow(0px 1px 2px rgba(0, 0, 0, 0.3));\n",
              "      fill: #FFFFFF;\n",
              "    }\n",
              "  </style>\n",
              "\n",
              "    <script>\n",
              "      const buttonEl =\n",
              "        document.querySelector('#df-ddd0e7f5-47b3-4044-9916-4a55b56dd1a5 button.colab-df-convert');\n",
              "      buttonEl.style.display =\n",
              "        google.colab.kernel.accessAllowed ? 'block' : 'none';\n",
              "\n",
              "      async function convertToInteractive(key) {\n",
              "        const element = document.querySelector('#df-ddd0e7f5-47b3-4044-9916-4a55b56dd1a5');\n",
              "        const dataTable =\n",
              "          await google.colab.kernel.invokeFunction('convertToInteractive',\n",
              "                                                    [key], {});\n",
              "        if (!dataTable) return;\n",
              "\n",
              "        const docLinkHtml = 'Like what you see? Visit the ' +\n",
              "          '<a target=\"_blank\" href=https://colab.research.google.com/notebooks/data_table.ipynb>data table notebook</a>'\n",
              "          + ' to learn more about interactive tables.';\n",
              "        element.innerHTML = '';\n",
              "        dataTable['output_type'] = 'display_data';\n",
              "        await google.colab.output.renderOutput(dataTable, element);\n",
              "        const docLink = document.createElement('div');\n",
              "        docLink.innerHTML = docLinkHtml;\n",
              "        element.appendChild(docLink);\n",
              "      }\n",
              "    </script>\n",
              "  </div>\n",
              "\n",
              "\n",
              "<div id=\"df-02099472-ced1-45a0-a81f-989fa0c1a535\">\n",
              "  <button class=\"colab-df-quickchart\" onclick=\"quickchart('df-02099472-ced1-45a0-a81f-989fa0c1a535')\"\n",
              "            title=\"Suggest charts\"\n",
              "            style=\"display:none;\">\n",
              "\n",
              "<svg xmlns=\"http://www.w3.org/2000/svg\" height=\"24px\"viewBox=\"0 0 24 24\"\n",
              "     width=\"24px\">\n",
              "    <g>\n",
              "        <path d=\"M19 3H5c-1.1 0-2 .9-2 2v14c0 1.1.9 2 2 2h14c1.1 0 2-.9 2-2V5c0-1.1-.9-2-2-2zM9 17H7v-7h2v7zm4 0h-2V7h2v10zm4 0h-2v-4h2v4z\"/>\n",
              "    </g>\n",
              "</svg>\n",
              "  </button>\n",
              "\n",
              "<style>\n",
              "  .colab-df-quickchart {\n",
              "      --bg-color: #E8F0FE;\n",
              "      --fill-color: #1967D2;\n",
              "      --hover-bg-color: #E2EBFA;\n",
              "      --hover-fill-color: #174EA6;\n",
              "      --disabled-fill-color: #AAA;\n",
              "      --disabled-bg-color: #DDD;\n",
              "  }\n",
              "\n",
              "  [theme=dark] .colab-df-quickchart {\n",
              "      --bg-color: #3B4455;\n",
              "      --fill-color: #D2E3FC;\n",
              "      --hover-bg-color: #434B5C;\n",
              "      --hover-fill-color: #FFFFFF;\n",
              "      --disabled-bg-color: #3B4455;\n",
              "      --disabled-fill-color: #666;\n",
              "  }\n",
              "\n",
              "  .colab-df-quickchart {\n",
              "    background-color: var(--bg-color);\n",
              "    border: none;\n",
              "    border-radius: 50%;\n",
              "    cursor: pointer;\n",
              "    display: none;\n",
              "    fill: var(--fill-color);\n",
              "    height: 32px;\n",
              "    padding: 0;\n",
              "    width: 32px;\n",
              "  }\n",
              "\n",
              "  .colab-df-quickchart:hover {\n",
              "    background-color: var(--hover-bg-color);\n",
              "    box-shadow: 0 1px 2px rgba(60, 64, 67, 0.3), 0 1px 3px 1px rgba(60, 64, 67, 0.15);\n",
              "    fill: var(--button-hover-fill-color);\n",
              "  }\n",
              "\n",
              "  .colab-df-quickchart-complete:disabled,\n",
              "  .colab-df-quickchart-complete:disabled:hover {\n",
              "    background-color: var(--disabled-bg-color);\n",
              "    fill: var(--disabled-fill-color);\n",
              "    box-shadow: none;\n",
              "  }\n",
              "\n",
              "  .colab-df-spinner {\n",
              "    border: 2px solid var(--fill-color);\n",
              "    border-color: transparent;\n",
              "    border-bottom-color: var(--fill-color);\n",
              "    animation:\n",
              "      spin 1s steps(1) infinite;\n",
              "  }\n",
              "\n",
              "  @keyframes spin {\n",
              "    0% {\n",
              "      border-color: transparent;\n",
              "      border-bottom-color: var(--fill-color);\n",
              "      border-left-color: var(--fill-color);\n",
              "    }\n",
              "    20% {\n",
              "      border-color: transparent;\n",
              "      border-left-color: var(--fill-color);\n",
              "      border-top-color: var(--fill-color);\n",
              "    }\n",
              "    30% {\n",
              "      border-color: transparent;\n",
              "      border-left-color: var(--fill-color);\n",
              "      border-top-color: var(--fill-color);\n",
              "      border-right-color: var(--fill-color);\n",
              "    }\n",
              "    40% {\n",
              "      border-color: transparent;\n",
              "      border-right-color: var(--fill-color);\n",
              "      border-top-color: var(--fill-color);\n",
              "    }\n",
              "    60% {\n",
              "      border-color: transparent;\n",
              "      border-right-color: var(--fill-color);\n",
              "    }\n",
              "    80% {\n",
              "      border-color: transparent;\n",
              "      border-right-color: var(--fill-color);\n",
              "      border-bottom-color: var(--fill-color);\n",
              "    }\n",
              "    90% {\n",
              "      border-color: transparent;\n",
              "      border-bottom-color: var(--fill-color);\n",
              "    }\n",
              "  }\n",
              "</style>\n",
              "\n",
              "  <script>\n",
              "    async function quickchart(key) {\n",
              "      const quickchartButtonEl =\n",
              "        document.querySelector('#' + key + ' button');\n",
              "      quickchartButtonEl.disabled = true;  // To prevent multiple clicks.\n",
              "      quickchartButtonEl.classList.add('colab-df-spinner');\n",
              "      try {\n",
              "        const charts = await google.colab.kernel.invokeFunction(\n",
              "            'suggestCharts', [key], {});\n",
              "      } catch (error) {\n",
              "        console.error('Error during call to suggestCharts:', error);\n",
              "      }\n",
              "      quickchartButtonEl.classList.remove('colab-df-spinner');\n",
              "      quickchartButtonEl.classList.add('colab-df-quickchart-complete');\n",
              "    }\n",
              "    (() => {\n",
              "      let quickchartButtonEl =\n",
              "        document.querySelector('#df-02099472-ced1-45a0-a81f-989fa0c1a535 button');\n",
              "      quickchartButtonEl.style.display =\n",
              "        google.colab.kernel.accessAllowed ? 'block' : 'none';\n",
              "    })();\n",
              "  </script>\n",
              "</div>\n",
              "    </div>\n",
              "  </div>\n"
            ]
          },
          "metadata": {},
          "execution_count": 16
        }
      ]
    },
    {
      "cell_type": "code",
      "source": [
        "db.info()"
      ],
      "metadata": {
        "colab": {
          "base_uri": "https://localhost:8080/"
        },
        "id": "_B6evU-IPJgC",
        "outputId": "3670a9f4-b62e-42ef-8c5c-46e16ab3c970"
      },
      "execution_count": null,
      "outputs": [
        {
          "output_type": "stream",
          "name": "stdout",
          "text": [
            "<class 'pandas.core.frame.DataFrame'>\n",
            "RangeIndex: 1349 entries, 0 to 1348\n",
            "Data columns (total 10 columns):\n",
            " #   Column               Non-Null Count  Dtype  \n",
            "---  ------               --------------  -----  \n",
            " 0   SEXO                 1349 non-null   int64  \n",
            " 1   EDAD                 1349 non-null   int64  \n",
            " 2   NUMERO_HIJOS         1349 non-null   int64  \n",
            " 3   HORAS_DE_SUENO       1349 non-null   float64\n",
            " 4   EJERCICIO_FISICO     1349 non-null   float64\n",
            " 5   LECTURA              1349 non-null   int64  \n",
            " 6   TIEMPO_VIDA_LABORAL  1349 non-null   float64\n",
            " 7   FUMADOR              1349 non-null   int64  \n",
            " 8   VIVE_EN_PAREJA       1349 non-null   int64  \n",
            " 9   BURNOUT              1349 non-null   int64  \n",
            "dtypes: float64(3), int64(7)\n",
            "memory usage: 105.5 KB\n"
          ]
        }
      ]
    },
    {
      "cell_type": "code",
      "source": [
        "sns.countplot(y='BURNOUT', data=db)"
      ],
      "metadata": {
        "colab": {
          "base_uri": "https://localhost:8080/",
          "height": 466
        },
        "id": "-xmOH1FoPMtn",
        "outputId": "0866dc43-8cdc-465e-9206-4b4fdf2be840"
      },
      "execution_count": null,
      "outputs": [
        {
          "output_type": "execute_result",
          "data": {
            "text/plain": [
              "<Axes: xlabel='count', ylabel='BURNOUT'>"
            ]
          },
          "metadata": {},
          "execution_count": 18
        },
        {
          "output_type": "display_data",
          "data": {
            "text/plain": [
              "<Figure size 640x480 with 1 Axes>"
            ],
            "image/png": "[encoded data removed]"
          },
          "metadata": {}
        }
      ]
    },
    {
      "cell_type": "code",
      "source": [
        "db['BURNOUT'].value_counts()"
      ],
      "metadata": {
        "colab": {
          "base_uri": "https://localhost:8080/"
        },
        "id": "2HOc-tewPPRg",
        "outputId": "ac78f914-4658-467a-b675-345befa2425c"
      },
      "execution_count": null,
      "outputs": [
        {
          "output_type": "execute_result",
          "data": {
            "text/plain": [
              "0    895\n",
              "1    454\n",
              "Name: BURNOUT, dtype: int64"
            ]
          },
          "metadata": {},
          "execution_count": 26
        }
      ]
    },
    {
      "cell_type": "markdown",
      "source": [
        "Decision Tree\n",
        "\n",
        "---\n",
        "\n"
      ],
      "metadata": {
        "id": "HKibb9Nv6Fz6"
      }
    },
    {
      "cell_type": "code",
      "source": [
        "dt = DecisionTreeClassifier().fit(X_train, y_train)\n",
        "\n",
        "acc_teste = dt.score(X_test, y_test)*100\n",
        "print(f'Acurácia no teste: {acc_teste:.1f}%')\n",
        "acc_treino = dt.score(X_train, y_train)*100\n",
        "print(f'Acurácia no treino: {acc_treino:.1f}%')"
      ],
      "metadata": {
        "colab": {
          "base_uri": "https://localhost:8080/"
        },
        "id": "1EEIF1CocM71",
        "outputId": "205cc21a-144d-48fd-ba39-84232047dd14"
      },
      "execution_count": null,
      "outputs": [
        {
          "output_type": "stream",
          "name": "stdout",
          "text": [
            "Acurácia no teste: 85.2%\n",
            "Acurácia no treino: 100.0%\n"
          ]
        }
      ]
    },
    {
      "cell_type": "code",
      "source": [
        "'''\n",
        "Aplicando o algoritmo DecisionTree sem variar os hiperparâmetros temos um caso\n",
        "de overfitting. Iremos utilizar a técnica de Pré e Pós-Poda para ajustar esse\n",
        "resultado.\n",
        "'''"
      ],
      "metadata": {
        "id": "ZQNlN4fsS90G"
      },
      "execution_count": null,
      "outputs": []
    },
    {
      "cell_type": "markdown",
      "source": [
        "ccp_alpha (Pós-Poda)\n",
        "\n"
      ],
      "metadata": {
        "id": "6OX-kJq06oDQ"
      }
    },
    {
      "cell_type": "code",
      "source": [
        "clf = DecisionTreeClassifier(random_state=0)\n",
        "path = clf.cost_complexity_pruning_path(X_train, y_train)\n",
        "ccp_alphas, impurities = path.ccp_alphas, path.impurities"
      ],
      "metadata": {
        "id": "wLM2pH0Y6t-a"
      },
      "execution_count": null,
      "outputs": []
    },
    {
      "cell_type": "code",
      "source": [
        "clfs = []\n",
        "for ccp_alpha in ccp_alphas:\n",
        "    clf = DecisionTreeClassifier(random_state=42, ccp_alpha=ccp_alpha)\n",
        "    clf.fit(X_train, y_train)\n",
        "    clfs.append(clf)\n",
        "\n",
        "print(\n",
        "    \"Number of nodes in the last tree is: {} with ccp_alpha: {}\".format(\n",
        "        clfs[-1].tree_.node_count, ccp_alphas[-1]\n",
        "    )\n",
        ")\n",
        "acc_teste = clf.score(X_test, y_test)*100\n",
        "print(f'Acurácia no teste: {acc_teste:.1f}%')\n",
        "acc_treino = clf.score(X_train, y_train)*100\n",
        "print(f'Acurácia no treino: {acc_treino:.1f}%')"
      ],
      "metadata": {
        "colab": {
          "base_uri": "https://localhost:8080/"
        },
        "id": "9JymEH406vhK",
        "outputId": "190b2987-e1c4-4ae6-e4d1-5d1657d9d83e"
      },
      "execution_count": null,
      "outputs": [
        {
          "output_type": "stream",
          "name": "stdout",
          "text": [
            "Number of nodes in the last tree is: 1 with ccp_alpha: 0.0074339596703564825\n",
            "Acurácia no teste: 68.6%\n",
            "Acurácia no treino: 65.4%\n"
          ]
        }
      ]
    },
    {
      "cell_type": "code",
      "source": [
        "train_scores = [clf.score(X_train, y_train) for clf in clfs]\n",
        "test_scores = [clf.score(X_test, y_test) for clf in clfs]\n",
        "\n",
        "fig, ax = plt.subplots()\n",
        "ax.set_xlabel(\"alpha\")\n",
        "ax.set_ylabel(\"accuracy\")\n",
        "ax.set_title(\"Accuracy vs alpha for training and testing sets\")\n",
        "ax.plot(ccp_alphas, train_scores, marker=\"o\", label=\"train\", drawstyle=\"steps-post\")\n",
        "ax.plot(ccp_alphas, test_scores, marker=\"o\", label=\"test\", drawstyle=\"steps-post\")\n",
        "ax.legend()\n",
        "plt.show()"
      ],
      "metadata": {
        "colab": {
          "base_uri": "https://localhost:8080/",
          "height": 472
        },
        "id": "itqp9_6C6xFR",
        "outputId": "749a65ac-f1ee-4dbf-c225-2cc19f141e6e"
      },
      "execution_count": null,
      "outputs": [
        {
          "output_type": "display_data",
          "data": {
            "text/plain": [
              "<Figure size 640x480 with 1 Axes>"
            ],
            "image/png": "[encoded data removed]"
          },
          "metadata": {}
        }
      ]
    },
    {
      "cell_type": "code",
      "source": [
        "'''\n",
        "A partir desse gráfico podemos ver a relação do número alpha com a acurácia.\n",
        "Vemos que o gap entre treino e teste é considerávelmente alto quando a acurácia\n",
        "é alta, diminuindo apenas quando o alpha está por volta de 0.003-0.004, com a acurácia\n",
        "entre 75-80 no teste e 80-85 no treino.\n",
        "'''"
      ],
      "metadata": {
        "id": "Qjy75jzVdLeV"
      },
      "execution_count": null,
      "outputs": []
    },
    {
      "cell_type": "code",
      "source": [
        "dt = DecisionTreeClassifier(random_state=42, ccp_alpha=0.0045).fit(X_train, y_train)\n",
        "\n",
        "acc_teste = dt.score(X_test, y_test)*100\n",
        "print(f'Acurácia no teste: {acc_teste:.1f}%')\n",
        "acc_treino = dt.score(X_train, y_train)*100\n",
        "print(f'Acurácia no treino: {acc_treino:.1f}%')"
      ],
      "metadata": {
        "colab": {
          "base_uri": "https://localhost:8080/"
        },
        "id": "DnNFNhOG6qBI",
        "outputId": "5563fb60-acb7-4d79-a028-ffcd659df4cc"
      },
      "execution_count": null,
      "outputs": [
        {
          "output_type": "stream",
          "name": "stdout",
          "text": [
            "Acurácia no teste: 71.4%\n",
            "Acurácia no treino: 76.5%\n"
          ]
        }
      ]
    },
    {
      "cell_type": "code",
      "source": [
        "'''\n",
        "Aplicando apenas o alpha já conseguimos um resultado melhor que o anterior,\n",
        "mas para tentar aumentar um pouco mais da acurácia vamos variar alguns\n",
        "hiperparâmetros de pré-poda (max_depth, min_samples_leaf, min_samples_split)\n",
        "'''"
      ],
      "metadata": {
        "id": "Jc0i4b7MTBSG"
      },
      "execution_count": null,
      "outputs": []
    },
    {
      "cell_type": "code",
      "source": [
        "dt = DecisionTreeClassifier(random_state=42)\n",
        "kf = KFold(n_splits=10)\n",
        "param_grid = {'max_depth':[i for i in range(1,25)],\n",
        "              'min_samples_leaf':[i for i in range(1, 10)],\n",
        "              'min_samples_split': [i for i in range(2, 10)],\n",
        "              'ccp_alpha': [0.0032]}\n",
        "\n",
        "gs = GridSearchCV(estimator=dt, param_grid=param_grid, cv=kf,\n",
        "                  scoring='accuracy')\n",
        "\n",
        "dt_gridcv = gs.fit(X_train, y_train)"
      ],
      "metadata": {
        "id": "Yr_040Wd00vi"
      },
      "execution_count": null,
      "outputs": []
    },
    {
      "cell_type": "code",
      "source": [
        "dt_gridcv.best_params_"
      ],
      "metadata": {
        "colab": {
          "base_uri": "https://localhost:8080/"
        },
        "id": "bfrwUw_w1Yxh",
        "outputId": "5ac3880e-e9cb-4dee-a434-2bf9e4466de0"
      },
      "execution_count": null,
      "outputs": [
        {
          "output_type": "execute_result",
          "data": {
            "text/plain": [
              "{'ccp_alpha': 0.0032,\n",
              " 'max_depth': 21,\n",
              " 'min_samples_leaf': 1,\n",
              " 'min_samples_split': 5}"
            ]
          },
          "metadata": {},
          "execution_count": 10
        }
      ]
    },
    {
      "cell_type": "code",
      "source": [
        "dt_otima =DecisionTreeClassifier().set_params(**dt_gridcv.best_params_,\n",
        "                                              random_state=42)\n",
        "\n",
        "dt_otima.fit(X_train, y_train)\n",
        "acc_teste = dt_otima.score(X_test, y_test)*100\n",
        "print(f'Acurácia no teste: {acc_teste:.1f}%')\n",
        "acc_treino = dt_otima.score(X_train, y_train)*100\n",
        "print(f'Acurácia no treino: {acc_treino:.1f}%')"
      ],
      "metadata": {
        "colab": {
          "base_uri": "https://localhost:8080/"
        },
        "id": "6Sf3hnup2NiB",
        "outputId": "172bc0e9-5ded-41b2-cdf3-52c7165ce5d0"
      },
      "execution_count": null,
      "outputs": [
        {
          "output_type": "stream",
          "name": "stdout",
          "text": [
            "Acurácia no teste: 78.0%\n",
            "Acurácia no treino: 85.9%\n"
          ]
        }
      ]
    },
    {
      "cell_type": "markdown",
      "source": [
        "Desempenho Treino/Teste"
      ],
      "metadata": {
        "id": "4ih9YckITNCO"
      }
    },
    {
      "cell_type": "code",
      "source": [
        "#Treino\n",
        "ytr_pred = dt_otima.predict(X_train)\n",
        "\n",
        "print(classification_report(y_train, ytr_pred))"
      ],
      "metadata": {
        "colab": {
          "base_uri": "https://localhost:8080/"
        },
        "id": "ISiTlEwnTKd9",
        "outputId": "853b2704-f668-447c-e357-796b10cf6a48"
      },
      "execution_count": null,
      "outputs": [
        {
          "output_type": "stream",
          "name": "stdout",
          "text": [
            "              precision    recall  f1-score   support\n",
            "\n",
            "           0       0.85      0.94      0.90       617\n",
            "           1       0.87      0.70      0.77       327\n",
            "\n",
            "    accuracy                           0.86       944\n",
            "   macro avg       0.86      0.82      0.84       944\n",
            "weighted avg       0.86      0.86      0.85       944\n",
            "\n"
          ]
        }
      ]
    },
    {
      "cell_type": "code",
      "source": [
        "cm = confusion_matrix(y_train, ytr_pred)\n",
        "disp = ConfusionMatrixDisplay(confusion_matrix=cm, display_labels=dt_otima.classes_)\n",
        "disp.plot()"
      ],
      "metadata": {
        "colab": {
          "base_uri": "https://localhost:8080/",
          "height": 466
        },
        "id": "j68LrK0xTdPf",
        "outputId": "70c23f74-339d-4b80-ca30-61915173d4de"
      },
      "execution_count": null,
      "outputs": [
        {
          "output_type": "execute_result",
          "data": {
            "text/plain": [
              "<sklearn.metrics._plot.confusion_matrix.ConfusionMatrixDisplay at 0x799b30b78460>"
            ]
          },
          "metadata": {},
          "execution_count": 319
        },
        {
          "output_type": "display_data",
          "data": {
            "text/plain": [
              "<Figure size 640x480 with 2 Axes>"
            ],
            "image/png": "[encoded data removed]"
          },
          "metadata": {}
        }
      ]
    },
    {
      "cell_type": "code",
      "source": [
        "#Teste\n",
        "yte_pred = dt_otima.predict(X_test)\n",
        "\n",
        "print(classification_report(y_test, yte_pred))"
      ],
      "metadata": {
        "colab": {
          "base_uri": "https://localhost:8080/"
        },
        "id": "5lZoVQfRTVKp",
        "outputId": "0b3d2c06-3266-471d-806d-87d6135dd60f"
      },
      "execution_count": null,
      "outputs": [
        {
          "output_type": "stream",
          "name": "stdout",
          "text": [
            "              precision    recall  f1-score   support\n",
            "\n",
            "           0       0.81      0.88      0.85       278\n",
            "           1       0.68      0.56      0.61       127\n",
            "\n",
            "    accuracy                           0.78       405\n",
            "   macro avg       0.75      0.72      0.73       405\n",
            "weighted avg       0.77      0.78      0.77       405\n",
            "\n"
          ]
        }
      ]
    },
    {
      "cell_type": "code",
      "source": [
        "cm = confusion_matrix(y_test, yte_pred)\n",
        "disp = ConfusionMatrixDisplay(confusion_matrix=cm, display_labels=dt_otima.classes_)\n",
        "disp.plot()"
      ],
      "metadata": {
        "colab": {
          "base_uri": "https://localhost:8080/",
          "height": 466
        },
        "id": "kan60gSZTi56",
        "outputId": "8c704530-9982-41d8-fab2-8a26c429098f"
      },
      "execution_count": null,
      "outputs": [
        {
          "output_type": "execute_result",
          "data": {
            "text/plain": [
              "<sklearn.metrics._plot.confusion_matrix.ConfusionMatrixDisplay at 0x799b30ca7a00>"
            ]
          },
          "metadata": {},
          "execution_count": 321
        },
        {
          "output_type": "display_data",
          "data": {
            "text/plain": [
              "<Figure size 640x480 with 2 Axes>"
            ],
            "image/png": "[encoded data removed]"
          },
          "metadata": {}
        }
      ]
    },
    {
      "cell_type": "code",
      "source": [
        "'''\n",
        "Podemos notar que o classificador não está conseguindo um bom desempenho na\n",
        "classificação correta dos caso positivos (1) para burnout.\n",
        "'''"
      ],
      "metadata": {
        "id": "SxjK7gxnJOFf"
      },
      "execution_count": null,
      "outputs": []
    },
    {
      "cell_type": "markdown",
      "source": [
        "Gradient Boosting\n",
        "\n",
        "---\n",
        "\n"
      ],
      "metadata": {
        "id": "X-Cg17njgMlv"
      }
    },
    {
      "cell_type": "code",
      "source": [
        "gb = GradientBoostingClassifier().fit(X_train, y_train)\n",
        "\n",
        "acc_teste = gb.score(X_test, y_test)*100\n",
        "print(f'Acurácia no teste: {acc_teste:.1f}%')\n",
        "acc_treino = gb.score(X_train, y_train)*100\n",
        "print(f'Acurácia no treino: {acc_treino:.1f}%')"
      ],
      "metadata": {
        "colab": {
          "base_uri": "https://localhost:8080/"
        },
        "id": "BGgQSrRqgNtX",
        "outputId": "3689ed54-b3a5-44de-eb56-cd164eada2da"
      },
      "execution_count": null,
      "outputs": [
        {
          "output_type": "stream",
          "name": "stdout",
          "text": [
            "Acurácia no teste: 77.3%\n",
            "Acurácia no treino: 84.4%\n"
          ]
        }
      ]
    },
    {
      "cell_type": "code",
      "source": [
        "'''\n",
        "Apenas com o classificador Gradient Boosting já obtemos um resultado\n",
        "similar ao obtido com o Decision Tree, iremos variar os hiperparâmetros\n",
        "para chegarmos a um desempenho melhor\n",
        "'''"
      ],
      "metadata": {
        "id": "_DLvT_wGL9IP"
      },
      "execution_count": null,
      "outputs": []
    },
    {
      "cell_type": "code",
      "source": [
        "gb = GradientBoostingClassifier(random_state=42)\n",
        "kf = KFold(n_splits=5)\n",
        "param_rand = {'learning_rate':[0.02 , 0.04],\n",
        "              'n_estimators':[100, 200],\n",
        "              'max_features': ['log2'],\n",
        "              'max_depth': [i for i in range(1,5)]}\n",
        "\n",
        "rs = RandomizedSearchCV(estimator=gb, param_distributions=param_rand, cv=kf,\n",
        "                  scoring='accuracy')\n",
        "\n",
        "gb_randomcv = rs.fit(X_train, y_train)"
      ],
      "metadata": {
        "id": "_vZ4jq_K96-M"
      },
      "execution_count": null,
      "outputs": []
    },
    {
      "cell_type": "code",
      "source": [
        "gb_randomcv.best_params_"
      ],
      "metadata": {
        "colab": {
          "base_uri": "https://localhost:8080/"
        },
        "id": "mY-Ug8m99-Nc",
        "outputId": "c14019a6-6df2-4e1f-d0d3-d3eed214d401"
      },
      "execution_count": null,
      "outputs": [
        {
          "output_type": "execute_result",
          "data": {
            "text/plain": [
              "{'n_estimators': 200,\n",
              " 'max_features': 'log2',\n",
              " 'max_depth': 4,\n",
              " 'learning_rate': 0.04}"
            ]
          },
          "metadata": {},
          "execution_count": 13
        }
      ]
    },
    {
      "cell_type": "code",
      "source": [
        "gb_otima = GradientBoostingClassifier().set_params(**gb_randomcv.best_params_, random_state=42)\n",
        "\n",
        "gb_otima.fit(X_train, y_train)\n",
        "acc_teste = gb_otima.score(X_test, y_test)*100\n",
        "print(f'Acurácia no teste: {acc_teste:.1f}%')\n",
        "acc_treino = gb_otima.score(X_train, y_train)*100\n",
        "print(f'Acurácia no treino: {acc_treino:.1f}%')"
      ],
      "metadata": {
        "colab": {
          "base_uri": "https://localhost:8080/"
        },
        "id": "xMW5wN4M-Aj0",
        "outputId": "468c92b5-ef22-4fb6-cd01-a5f73ceb4910"
      },
      "execution_count": null,
      "outputs": [
        {
          "output_type": "stream",
          "name": "stdout",
          "text": [
            "Acurácia no teste: 81.2%\n",
            "Acurácia no treino: 86.2%\n"
          ]
        }
      ]
    },
    {
      "cell_type": "markdown",
      "source": [
        "Desempenho Treino/Teste"
      ],
      "metadata": {
        "id": "en_ZYw_-q793"
      }
    },
    {
      "cell_type": "code",
      "source": [
        "#Treino\n",
        "ytr_pred = gb_otima.predict(X_train)\n",
        "\n",
        "print(classification_report(y_train, ytr_pred))"
      ],
      "metadata": {
        "colab": {
          "base_uri": "https://localhost:8080/"
        },
        "id": "0k3UzGXSq-YW",
        "outputId": "c98d9992-8d4c-4187-bbc2-9dea73d9e657"
      },
      "execution_count": null,
      "outputs": [
        {
          "output_type": "stream",
          "name": "stdout",
          "text": [
            "              precision    recall  f1-score   support\n",
            "\n",
            "           0       0.84      0.98      0.90       617\n",
            "           1       0.93      0.65      0.77       327\n",
            "\n",
            "    accuracy                           0.86       944\n",
            "   macro avg       0.89      0.81      0.83       944\n",
            "weighted avg       0.87      0.86      0.86       944\n",
            "\n"
          ]
        }
      ]
    },
    {
      "cell_type": "code",
      "source": [
        "cm = confusion_matrix(y_train, ytr_pred)\n",
        "disp = ConfusionMatrixDisplay(confusion_matrix=cm, display_labels=gb_otima.classes_)\n",
        "disp.plot()"
      ],
      "metadata": {
        "colab": {
          "base_uri": "https://localhost:8080/",
          "height": 471
        },
        "id": "gIP3C9vErCo3",
        "outputId": "cacee4a2-03f4-4692-f14d-adc35de5d561"
      },
      "execution_count": null,
      "outputs": [
        {
          "output_type": "execute_result",
          "data": {
            "text/plain": [
              "<sklearn.metrics._plot.confusion_matrix.ConfusionMatrixDisplay at 0x799b30cfa9e0>"
            ]
          },
          "metadata": {},
          "execution_count": 282
        },
        {
          "output_type": "display_data",
          "data": {
            "text/plain": [
              "<Figure size 640x480 with 2 Axes>"
            ],
            "image/png": "[encoded data removed]"
          },
          "metadata": {}
        }
      ]
    },
    {
      "cell_type": "code",
      "source": [
        "#Teste\n",
        "yte_pred = gb_otima.predict(X_test)\n",
        "\n",
        "print(classification_report(y_test, yte_pred))"
      ],
      "metadata": {
        "colab": {
          "base_uri": "https://localhost:8080/"
        },
        "id": "eqhjQOmFrHSa",
        "outputId": "8bb49f29-389f-4e58-f77e-04b749e9641f"
      },
      "execution_count": null,
      "outputs": [
        {
          "output_type": "stream",
          "name": "stdout",
          "text": [
            "              precision    recall  f1-score   support\n",
            "\n",
            "           0       0.81      0.94      0.87       278\n",
            "           1       0.81      0.53      0.64       127\n",
            "\n",
            "    accuracy                           0.81       405\n",
            "   macro avg       0.81      0.74      0.76       405\n",
            "weighted avg       0.81      0.81      0.80       405\n",
            "\n"
          ]
        }
      ]
    },
    {
      "cell_type": "code",
      "source": [
        "cm = confusion_matrix(y_test, yte_pred)\n",
        "disp = ConfusionMatrixDisplay(confusion_matrix=cm, display_labels=gb_otima.classes_)\n",
        "disp.plot()"
      ],
      "metadata": {
        "colab": {
          "base_uri": "https://localhost:8080/",
          "height": 466
        },
        "id": "CYI4gEFsrK0s",
        "outputId": "b91bc745-fe44-49f9-cb51-2867912da134"
      },
      "execution_count": null,
      "outputs": [
        {
          "output_type": "execute_result",
          "data": {
            "text/plain": [
              "<sklearn.metrics._plot.confusion_matrix.ConfusionMatrixDisplay at 0x799b30cfaf80>"
            ]
          },
          "metadata": {},
          "execution_count": 284
        },
        {
          "output_type": "display_data",
          "data": {
            "text/plain": [
              "<Figure size 640x480 with 2 Axes>"
            ],
            "image/png": "[encoded data removed]"
          },
          "metadata": {}
        }
      ]
    },
    {
      "cell_type": "code",
      "source": [
        "'''\n",
        "Podemo observar, que assim como no Decision Tree, esse classificador\n",
        "também não apresentar bom desempenho na classificação de casos positivos\n",
        "'''"
      ],
      "metadata": {
        "id": "dkefdo9jMWzA"
      },
      "execution_count": null,
      "outputs": []
    }
  ]
}